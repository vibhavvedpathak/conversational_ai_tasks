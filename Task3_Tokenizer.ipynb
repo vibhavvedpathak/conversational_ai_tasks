{
  "nbformat": 4,
  "nbformat_minor": 0,
  "metadata": {
    "colab": {
      "provenance": []
    },
    "kernelspec": {
      "name": "python3",
      "display_name": "Python 3"
    },
    "language_info": {
      "name": "python"
    }
  },
  "cells": [
    {
      "cell_type": "code",
      "execution_count": 1,
      "metadata": {
        "colab": {
          "base_uri": "https://localhost:8080/"
        },
        "id": "xqTIcZ0pU1gW",
        "outputId": "bfeb6fa2-44cd-4ff8-c33c-8f95017c82d1"
      },
      "outputs": [
        {
          "output_type": "stream",
          "name": "stdout",
          "text": [
            "Requirement already satisfied: nltk in /usr/local/lib/python3.10/dist-packages (3.8.1)\n",
            "Requirement already satisfied: click in /usr/local/lib/python3.10/dist-packages (from nltk) (8.1.7)\n",
            "Requirement already satisfied: joblib in /usr/local/lib/python3.10/dist-packages (from nltk) (1.4.2)\n",
            "Requirement already satisfied: regex>=2021.8.3 in /usr/local/lib/python3.10/dist-packages (from nltk) (2024.9.11)\n",
            "Requirement already satisfied: tqdm in /usr/local/lib/python3.10/dist-packages (from nltk) (4.66.5)\n"
          ]
        }
      ],
      "source": [
        " !pip install nltk"
      ]
    },
    {
      "cell_type": "code",
      "source": [
        "from nltk.tokenize import word_tokenize"
      ],
      "metadata": {
        "id": "tR5j1NsJVT27"
      },
      "execution_count": 3,
      "outputs": []
    },
    {
      "cell_type": "code",
      "source": [
        "text = \"\"\"No problem! Here's the information about the Mercedes CLR GTR:\n",
        "\n",
        "The Mercedes CLR GTR is a remarkable racing car celebrated for its outstanding performance and sleek design. Powder by a potent 6.0-liter V12 engine, it delivers over 600 horsepower.\n",
        "\n",
        "Acceleration from 0 to 100km/h takes approximately 3.7 seconds, with a remarkable top speed surpassing 320km/h.\n",
        "\n",
        "Incorporation advanced aerodynamic features and cutting-edge stability technologies, the ClR GTR ensures exceptional stability and control, particularly during high-speed maneuvers.\"\"\""
      ],
      "metadata": {
        "id": "9aKxkzMSVgLI"
      },
      "execution_count": 5,
      "outputs": []
    },
    {
      "cell_type": "code",
      "source": [
        "# prompt: Use the previous text variable and use word_tokenize from nltk on it\n",
        "\n",
        "import nltk\n",
        "nltk.download('punkt')\n",
        "\n",
        "tokens = word_tokenize(text)\n",
        "tokens\n"
      ],
      "metadata": {
        "colab": {
          "base_uri": "https://localhost:8080/"
        },
        "id": "XHa3oaKUWZGk",
        "outputId": "5bd38866-3252-478e-8f9f-30c883241fac"
      },
      "execution_count": 7,
      "outputs": [
        {
          "output_type": "stream",
          "name": "stderr",
          "text": [
            "[nltk_data] Downloading package punkt to /root/nltk_data...\n",
            "[nltk_data]   Unzipping tokenizers/punkt.zip.\n"
          ]
        },
        {
          "output_type": "execute_result",
          "data": {
            "text/plain": [
              "['No',\n",
              " 'problem',\n",
              " '!',\n",
              " 'Here',\n",
              " \"'s\",\n",
              " 'the',\n",
              " 'information',\n",
              " 'about',\n",
              " 'the',\n",
              " 'Mercedes',\n",
              " 'CLR',\n",
              " 'GTR',\n",
              " ':',\n",
              " 'The',\n",
              " 'Mercedes',\n",
              " 'CLR',\n",
              " 'GTR',\n",
              " 'is',\n",
              " 'a',\n",
              " 'remarkable',\n",
              " 'racing',\n",
              " 'car',\n",
              " 'celebrated',\n",
              " 'for',\n",
              " 'its',\n",
              " 'outstanding',\n",
              " 'performance',\n",
              " 'and',\n",
              " 'sleek',\n",
              " 'design',\n",
              " '.',\n",
              " 'Powder',\n",
              " 'by',\n",
              " 'a',\n",
              " 'potent',\n",
              " '6.0-liter',\n",
              " 'V12',\n",
              " 'engine',\n",
              " ',',\n",
              " 'it',\n",
              " 'delivers',\n",
              " 'over',\n",
              " '600',\n",
              " 'horsepower',\n",
              " '.',\n",
              " 'Acceleration',\n",
              " 'from',\n",
              " '0',\n",
              " 'to',\n",
              " '100km/h',\n",
              " 'takes',\n",
              " 'approximately',\n",
              " '3.7',\n",
              " 'seconds',\n",
              " ',',\n",
              " 'with',\n",
              " 'a',\n",
              " 'remarkable',\n",
              " 'top',\n",
              " 'speed',\n",
              " 'surpassing',\n",
              " '320km/h',\n",
              " '.',\n",
              " 'Incorporation',\n",
              " 'advanced',\n",
              " 'aerodynamic',\n",
              " 'features',\n",
              " 'and',\n",
              " 'cutting-edge',\n",
              " 'stability',\n",
              " 'technologies',\n",
              " ',',\n",
              " 'the',\n",
              " 'ClR',\n",
              " 'GTR',\n",
              " 'ensures',\n",
              " 'exceptional',\n",
              " 'stability',\n",
              " 'and',\n",
              " 'control',\n",
              " ',',\n",
              " 'particularly',\n",
              " 'during',\n",
              " 'high-speed',\n",
              " 'maneuvers',\n",
              " '.']"
            ]
          },
          "metadata": {},
          "execution_count": 7
        }
      ]
    },
    {
      "cell_type": "code",
      "source": [
        "# prompt: count the number of tokens in the text variable that i have\n",
        "\n",
        "print(len(tokens))\n"
      ],
      "metadata": {
        "colab": {
          "base_uri": "https://localhost:8080/"
        },
        "id": "5dRsVnpQWrAy",
        "outputId": "314d8733-fb9b-4199-ad38-3834afdda8ee"
      },
      "execution_count": 8,
      "outputs": [
        {
          "output_type": "stream",
          "name": "stdout",
          "text": [
            "86\n"
          ]
        }
      ]
    },
    {
      "cell_type": "code",
      "source": [
        "# prompt: Identify the frequency of each token using nltk.FreqDist or other function.\n",
        "\n",
        "from nltk.probability import FreqDist\n",
        "\n",
        "fdist = FreqDist(tokens)\n",
        "fdist\n"
      ],
      "metadata": {
        "colab": {
          "base_uri": "https://localhost:8080/"
        },
        "id": "jAyCPmVia2ZO",
        "outputId": "b4a3a6be-c8a9-42fa-fc07-73a03c8602c1"
      },
      "execution_count": 11,
      "outputs": [
        {
          "output_type": "execute_result",
          "data": {
            "text/plain": [
              "FreqDist({'.': 4, ',': 4, 'the': 3, 'GTR': 3, 'a': 3, 'and': 3, 'Mercedes': 2, 'CLR': 2, 'remarkable': 2, 'stability': 2, ...})"
            ]
          },
          "metadata": {},
          "execution_count": 11
        }
      ]
    },
    {
      "cell_type": "code",
      "source": [],
      "metadata": {
        "id": "TTWvlEiia6iP"
      },
      "execution_count": null,
      "outputs": []
    }
  ]
}